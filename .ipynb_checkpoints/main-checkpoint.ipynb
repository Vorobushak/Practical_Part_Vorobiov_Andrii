{
 "cells": [
  {
   "cell_type": "markdown",
   "metadata": {},
   "source": [
    "## Assignment 2\n",
    "## *Vorobiov Andrii*"
   ]
  },
  {
   "cell_type": "markdown",
   "metadata": {},
   "source": [
    "#### Imports"
   ]
  },
  {
   "cell_type": "code",
   "execution_count": 39,
   "metadata": {},
   "outputs": [],
   "source": [
    "import pandas as pd\n",
    "import numpy as np\n",
    "from numpy import float128\n",
    "import matplotlib.pyplot as plt\n",
    "import seaborn as sns\n",
    "import scipy.stats as stats\n",
    "from scipy.special import beta\n",
    "import math\n",
    "import pprint\n",
    "import statsmodels.stats.proportion as prop\n",
    "from scipy.optimize import minimize, minimize_scalar\n",
    "from tqdm import tqdm\n"
   ]
  },
  {
   "cell_type": "markdown",
   "metadata": {},
   "source": [
    "### Problem 4"
   ]
  },
  {
   "cell_type": "markdown",
   "metadata": {},
   "source": [
    "#### Task 1"
   ]
  },
  {
   "cell_type": "markdown",
   "metadata": {},
   "source": [
    "##### Part a"
   ]
  },
  {
   "cell_type": "code",
   "execution_count": 2,
   "metadata": {},
   "outputs": [
    {
     "name": "stdout",
     "output_type": "stream",
     "text": [
      "For just standartized data:\n",
      "KS-statistic:  0.06460412704778368 \n",
      "P-value:  0.0901592607568884\n",
      "\n",
      "For standartized ln data:\n",
      "KS-statistic:  0.17669387039169138 \n",
      "P-value:  1.9391752330629502e-10\n"
     ]
    }
   ],
   "source": [
    "df = pd.read_csv('EUR_UAH.csv')\n",
    "df['Rate'] = df['Rate'].astype(float)\n",
    "\n",
    "logn_rates = np.log(df['Rate'] / df['Rate'].shift(1))\n",
    "logn_rates.dropna(inplace=True)\n",
    "\n",
    "standartized_data = (df['Rate'] - np.mean(df['Rate'])) / np.std(df['Rate'])\n",
    "\n",
    "# Perform Kolmogorov-Smirnov test\n",
    "ks_statistic, p_value = stats.kstest(standartized_data, stats.norm.cdf)\n",
    "print('For just standartized data:')\n",
    "print('KS-statistic: ', ks_statistic, '\\nP-value: ', p_value)\n",
    "\n",
    "standartized_data = (logn_rates - np.mean(logn_rates)) / np.std(logn_rates)\n",
    "ks_statistic, p_value = stats.kstest(standartized_data, stats.norm.cdf)\n",
    "print('\\nFor standartized ln data:')\n",
    "print('KS-statistic: ', ks_statistic, '\\nP-value: ', p_value)"
   ]
  },
  {
   "cell_type": "markdown",
   "metadata": {},
   "source": [
    "H<sub>0</sub> hypothesis: F = N <br>\n",
    "H<sub>1</sub> hypothesis: F ≠ N\n",
    "\n",
    "\n",
    "Due to the results, we have p-value of standartized returns = 0.09, which means we can't reject the null hypothesis if alpha < 0.09"
   ]
  },
  {
   "cell_type": "markdown",
   "metadata": {},
   "source": [
    "##### Part b"
   ]
  },
  {
   "cell_type": "code",
   "execution_count": 3,
   "metadata": {},
   "outputs": [
    {
     "name": "stdout",
     "output_type": "stream",
     "text": [
      "{'mu': 37.90455642777226, 'sigma': 1.8437947710047553, 'df': 1000.0}\n"
     ]
    },
    {
     "name": "stderr",
     "output_type": "stream",
     "text": [
      "/tmp/ipykernel_9540/1138455107.py:10: RuntimeWarning: divide by zero encountered in log\n",
      "  log_likelihood = np.log(upper / lower)\n",
      "/root/anaconda3/envs/py10/lib/python3.10/site-packages/scipy/optimize/_numdiff.py:576: RuntimeWarning: invalid value encountered in subtract\n",
      "  df = fun(x) - f0\n"
     ]
    }
   ],
   "source": [
    "def L(params: tuple):\n",
    "    mu, sigma, _df = params\n",
    "    _df = math.ceil(_df * 1000)\n",
    "    sum = 0\n",
    "    for r in df['Rate']:\n",
    "        _std = (r - mu) / sigma\n",
    "        upper = float128(1 + (1/_df) * (_std ** 2))** (-(_df+1)/2)\n",
    "        lower = beta(_df/2, .5) * math.sqrt(_df) * sigma\n",
    "\n",
    "        log_likelihood = np.log(upper / lower)\n",
    "        sum += log_likelihood\n",
    "    return -sum # Because we need to maximize results, but we use minimize function\n",
    "\n",
    "init_params = (0.0001, 0.0001, 1)\n",
    "\n",
    "result = minimize(L, init_params, bounds=((1e-5, None), (1e-5, None), ( .001, 1))) \n",
    "pprint.pprint({\"mu\": result.x[0], \"sigma\": result.x[1], \"df\": result.x[2] * 1000}, sort_dicts=False)"
   ]
  },
  {
   "cell_type": "markdown",
   "metadata": {},
   "source": [
    "We can see that df is moving to the maximum bound number, that, in addition to previous task, gives as a conclusion that returns in this case follow Normal Distribution with mean ~ 37.9 and deviation ~ 1.8"
   ]
  },
  {
   "cell_type": "markdown",
   "metadata": {},
   "source": [
    "#### Task 2"
   ]
  },
  {
   "cell_type": "markdown",
   "metadata": {},
   "source": [
    "##### Part a"
   ]
  },
  {
   "cell_type": "markdown",
   "metadata": {},
   "source": [
    "H<sub>0</sub> (null hypothesis): The expected age of a CEO is >= 60 years. <br>\n",
    "H<sub>1</sub> (alternative hypothesis): The expected age of a CEO  is < 60 years."
   ]
  },
  {
   "cell_type": "code",
   "execution_count": 4,
   "metadata": {},
   "outputs": [
    {
     "name": "stdout",
     "output_type": "stream",
     "text": [
      "T-statistic: -10.965\n",
      "Rejection area: -1.648\n",
      "P-value: 3.103801632436528e-25\n",
      "--------------------------------------------------\n",
      "Reject the null hypothesis: There is evidence to suggest that the expected age of a CEO is less than 60.\n"
     ]
    }
   ],
   "source": [
    "df = pd.read_excel(\"ceo.xlsx\", header=0, )\n",
    "\n",
    "ALPHA = 0.05\n",
    "EXPECTED_VALUE = 60\n",
    "\n",
    "def hr():\n",
    "    for _ in range(50):\n",
    "        print('-', end='')\n",
    "    print()\n",
    "\n",
    "def get_t_statistic(sample, expected_value):\n",
    "    sample_mean = sample.mean()\n",
    "    sample_std = sample.std(ddof=1)\n",
    "    sample_size = len(sample)\n",
    "\n",
    "    t_statistic = (sample_mean - expected_value) / (sample_std / np.sqrt(sample_size))\n",
    "    return t_statistic\n",
    "\n",
    "\n",
    "t_statistic = get_t_statistic(df['age'], EXPECTED_VALUE)\n",
    "\n",
    "_, p_value = stats.ttest_1samp(df['age'], EXPECTED_VALUE, alternative='less')\n",
    "\n",
    "df_degrees = len(df['age']) - 1\n",
    "\n",
    "rejection_area = stats.t.ppf(ALPHA, df_degrees)\n",
    "\n",
    "print(f\"T-statistic: {t_statistic:.3f}\")\n",
    "print(f\"Rejection area: {rejection_area:.3f}\")\n",
    "print(f\"P-value: {p_value}\")\n",
    "\n",
    "# Decision based on the p-value and alpha level\n",
    "hr()\n",
    "if p_value < ALPHA:\n",
    "    print(\"Reject the null hypothesis: There is evidence to suggest that the expected age of a CEO is less than 60.\")\n",
    "else:\n",
    "    print(\"Fail to reject the null hypothesis: There is not enough evidence to suggest that the expected age of a CEO is greater than 60.\")\n"
   ]
  },
  {
   "cell_type": "markdown",
   "metadata": {},
   "source": [
    "##### Part b"
   ]
  },
  {
   "cell_type": "markdown",
   "metadata": {},
   "source": [
    "H<sub>0</sub> (null hypothesis): μ<sub>1</sub> = μ<sub>2</sub> <br>\n",
    "H<sub>1</sub> (alternative hypothesis): μ<sub>1</sub> ≠ μ<sub>2</sub>"
   ]
  },
  {
   "cell_type": "code",
   "execution_count": 5,
   "metadata": {},
   "outputs": [
    {
     "name": "stdout",
     "output_type": "stream",
     "text": [
      "T-statistic: -1.619\n",
      "Rejection area: (-1.968; 1.968)\n",
      "P-value: 0.107\n",
      "--------------------------------------------------\n",
      "Fail to reject the null hypothesis: \n",
      "\tThere is enough evidence to suggest that the expected salary of younger CEOs isn't significantly different or equal to/than the expected salary of older CEOs.\n"
     ]
    }
   ],
   "source": [
    "younger = df[df['age'] < EXPECTED_VALUE]['salary']\n",
    "older = df[df['age'] >= EXPECTED_VALUE]['salary']\n",
    "\n",
    "n1 = len(younger)\n",
    "n2 = len(older)\n",
    "s1 = younger.std(ddof=1)\n",
    "s2 = older.std(ddof=1)\n",
    "x1 = younger.mean()\n",
    "x2 = older.mean()\n",
    "\n",
    "_, p_value = stats.ttest_ind(younger, older, equal_var=False)\n",
    "\n",
    "v = (x1 - x2) / (math.sqrt((s1**2 / n1) + (s2**2 / n2)))\n",
    "rejection_area = (stats.t.ppf(ALPHA/2, n1-1), stats.t.ppf(1-ALPHA/2, n1-1))\n",
    "print(f\"T-statistic: {v:.3f}\")\n",
    "print(f\"Rejection area: ({rejection_area[0]:.3f}; {rejection_area[1]:.3f})\")\n",
    "print(f\"P-value: {p_value:.3f}\")\n",
    "hr()\n",
    "\n",
    "if p_value < ALPHA:\n",
    "    print(\"Reject the null hypothesis: \\n\\tThere is enough evidence to suggest that the expected salary of younger CEOs is significantly different than the expected salary of older CEOs.\")\n",
    "else:\n",
    "    print(\"Fail to reject the null hypothesis: \\n\\tThere is enough evidence to suggest that the expected salary of younger CEOs isn't significantly different or equal to/than the expected salary of older CEOs.\")\n"
   ]
  },
  {
   "cell_type": "markdown",
   "metadata": {},
   "source": [
    "##### Part c"
   ]
  },
  {
   "cell_type": "markdown",
   "metadata": {},
   "source": [
    "H<sub>0</sub> (null hypothesis): ρ = 0 <br>\n",
    "H<sub>1</sub> (alternative hypothesis): ρ ≠ 0"
   ]
  },
  {
   "cell_type": "code",
   "execution_count": 6,
   "metadata": {},
   "outputs": [
    {
     "name": "stdout",
     "output_type": "stream",
     "text": [
      "Pearson correlation coefficient: 0.726\n",
      "p-value: 2.3209381272863423e-74\n",
      "Statistic: 22.268\n",
      "Rejection area: (-1.96; 1.96)\n",
      "--------------------------------------------------\n",
      "Reject the null hypothesis: \n",
      "  There is enough evidence to suggest that the correlation between sales and profits is significant.\n"
     ]
    }
   ],
   "source": [
    "sales = df['sales']\n",
    "profits = df['profits']\n",
    "\n",
    "_, p_value = stats.pearsonr(sales, profits)\n",
    "r = sum((sales - sales.mean()) * (profits - profits.mean())) / (math.sqrt(sum((sales - sales.mean())**2)) * math.sqrt(sum((profits - profits.mean())**2)))\n",
    "v = math.sqrt(len(sales) - 2) * (r/math.sqrt(1 - r**2))\n",
    "\n",
    "rejection_area = (stats.norm.ppf(ALPHA/2), stats.norm.ppf(1-ALPHA/2)) # using norm because n > 30\n",
    "\n",
    "print(f\"Pearson correlation coefficient: {r:.3f}\\np-value: {p_value}\")\n",
    "print(f\"Statistic: {v:.3f}\")\n",
    "print(f\"Rejection area: ({rejection_area[0]:.2f}; {rejection_area[1]:.2f})\")\n",
    "\n",
    "hr()\n",
    "\n",
    "if p_value < ALPHA:\n",
    "    print(\"Reject the null hypothesis: \\n  There is enough evidence to suggest that the correlation between sales and profits is significant.\")\n",
    "else:\n",
    "    print(\"Fail to reject the null hypothesis: \\n  There is enough evidence to suggest that the correlation between sales and profits is not significant or they are independent.\")\n"
   ]
  },
  {
   "cell_type": "markdown",
   "metadata": {},
   "source": [
    "##### Part d"
   ]
  },
  {
   "cell_type": "markdown",
   "metadata": {},
   "source": [
    "H<sub>0</sub> (null hypothesis): p >= 50% (fraction of CEOs older than 60 higher than 50%)<br>\n",
    "H<sub>1</sub> (alternative hypothesis): p < 50% (fraction of CEOs older than 60 lower than 50%)"
   ]
  },
  {
   "cell_type": "code",
   "execution_count": 7,
   "metadata": {},
   "outputs": [
    {
     "name": "stdout",
     "output_type": "stream",
     "text": [
      "Proportion of younger: 0.2684563758389262\n",
      "p-value: 1.1380583261240903e-28\n",
      "Statistic: -11.047\n",
      "Rejection area: -1.64\n",
      "--------------------------------------------------\n",
      "Reject the null hypothesis: \n",
      "  There is enough evidence to suggest that the proportion of older CEOs is significantly less than 50%.\n"
     ]
    }
   ],
   "source": [
    "EXPECTED_P = .5\n",
    "\n",
    "proportion = sum(df['age'] > 60) / len(df)\n",
    "print(f\"Proportion of younger: {proportion}\")\n",
    "\n",
    "_, p_value = prop.proportions_ztest(sum(df['age'] > 60), len(df), EXPECTED_P, alternative='smaller')\n",
    "z = (proportion - EXPECTED_P) / math.sqrt((proportion * (1 - proportion)) / len(df))\n",
    "rejection_area =  stats.norm.ppf(ALPHA)\n",
    "\n",
    "print(f\"p-value: {p_value}\")\n",
    "print(f\"Statistic: {z:.3f}\")\n",
    "print(f\"Rejection area: {rejection_area:.2f}\")\n",
    "\n",
    "hr()\n",
    "\n",
    "if p_value < ALPHA:\n",
    "    print(\"Reject the null hypothesis: \\n  There is enough evidence to suggest that the proportion of older CEOs is significantly less than 50%.\")\n",
    "else:\n",
    "    print(\"Fail to reject the null hypothesis: \\n  There is enough evidence to suggest that the proportion of older CEOs is significantly more than 50%.\")\n"
   ]
  },
  {
   "cell_type": "markdown",
   "metadata": {},
   "source": [
    "##### Part e"
   ]
  },
  {
   "cell_type": "markdown",
   "metadata": {},
   "source": [
    "H<sub>0</sub> hypothesis: F = N <br>\n",
    "H<sub>1</sub> hypothesis: F ≠ N"
   ]
  },
  {
   "cell_type": "code",
   "execution_count": 8,
   "metadata": {},
   "outputs": [
    {
     "name": "stdout",
     "output_type": "stream",
     "text": [
      "K-S statistic: 0.18615180994924452, p-value: 4.93926502382922e-14\n",
      "--------------------------------------------------\n",
      "Reject the null hypothesis: The data is not normally distributed.\n"
     ]
    }
   ],
   "source": [
    "data = df['salary']\n",
    "\n",
    "mean = data.mean()\n",
    "std = data.std()\n",
    "\n",
    "d, p_value = stats.kstest(data, 'norm', args=(mean, std))\n",
    "\n",
    "print(f\"K-S statistic: {d}, p-value: {p_value}\")\n",
    "hr()\n",
    "\n",
    "if p_value < ALPHA:\n",
    "    print(\"Reject the null hypothesis: The data is not normally distributed.\")\n",
    "else:\n",
    "    print(\"Fail to reject the null hypothesis: No evidence to suggest the data is not normally distributed.\")"
   ]
  },
  {
   "cell_type": "markdown",
   "metadata": {},
   "source": [
    "#### Task 3"
   ]
  },
  {
   "cell_type": "markdown",
   "metadata": {},
   "source": [
    "##### Part a"
   ]
  },
  {
   "cell_type": "markdown",
   "metadata": {},
   "source": [
    "H<sub>0</sub> hypothesis: µ = 500 <br>\n",
    "H<sub>1</sub> hypothesis: µ ≠ 500 <br>\n",
    "with α = 0.04 <br>\n",
    "* Also we need to estimate σ<sup>2</sup>. But we can calculate sample variance(s<sup>2</sup>), which is an unbiased estimator of the σ<sup>2</sup>"
   ]
  },
  {
   "cell_type": "code",
   "execution_count": 9,
   "metadata": {},
   "outputs": [
    {
     "name": "stdout",
     "output_type": "stream",
     "text": [
      "Sample mean: 500.151\n",
      "Sample variance: 53.439\n",
      "Statistic: 0.207\n",
      "Rejection areas: (-Inf, -2.054) U (2.054, Inf)\n",
      "--------------------------------------------------\n",
      "Fail to reject the null hypothesis: \n",
      "\tThe sample mean is not significantly different from the 500\n"
     ]
    }
   ],
   "source": [
    "MEAN = 500\n",
    "VAR = 50\n",
    "SIGMA = math.sqrt(VAR)\n",
    "N = 100\n",
    "ALPHA = .04\n",
    "\n",
    "sample = np.random.normal(MEAN, SIGMA, N)\n",
    "\n",
    "sample_mean = np.mean(sample)\n",
    "sample_std = np.std(sample, ddof=1)\n",
    "sample_var = sample_std**2\n",
    "sample_size = len(sample)\n",
    "\n",
    "v = (sample_mean - MEAN) / sample_std * math.sqrt(sample_size)\n",
    "rejection_areas = (stats.norm.ppf(ALPHA/2), stats.norm.ppf(1-ALPHA/2))\n",
    "\n",
    "print(f\"Sample mean: {sample_mean:.3f}\")\n",
    "print(f\"Sample variance: {sample_var:.3f}\")\n",
    "print(f\"Statistic: {v:.3f}\")\n",
    "print(f\"Rejection areas: (-Inf, {rejection_areas[0]:.3f}) U ({rejection_areas[1]:.3f}, Inf)\")\n",
    "hr()\n",
    "if v > rejection_areas[0] and v < rejection_areas[1]:\n",
    "    print(\"Fail to reject the null hypothesis: \\n\\tThe sample mean is not significantly different from the 500\")\n",
    "else:\n",
    "    print(\"Reject the null hypothesis: \\n\\tThe sample mean is significantly different from the 500\")\n"
   ]
  },
  {
   "cell_type": "markdown",
   "metadata": {},
   "source": [
    "##### Part b"
   ]
  },
  {
   "cell_type": "code",
   "execution_count": 38,
   "metadata": {},
   "outputs": [
    {
     "name": "stdout",
     "output_type": "stream",
     "text": [
      "Empirical confidence level: 0.045\n",
      "Confidence level: 0.040\n"
     ]
    }
   ],
   "source": [
    "M = 1000\n",
    "results = []\n",
    "\n",
    "for i in range(M):\n",
    "    np.random.seed(i)\n",
    "    sample = np.random.normal(MEAN, SIGMA, N)\n",
    "\n",
    "    sample_mean = np.mean(sample)\n",
    "    sample_std = np.std(sample, ddof=1)\n",
    "    sample_size = len(sample)\n",
    "\n",
    "    v = (sample_mean - MEAN) / sample_std * math.sqrt(sample_size)\n",
    "    rejection_areas = (stats.norm.ppf(ALPHA/2), stats.norm.ppf(1-ALPHA/2))\n",
    "    p = not (v > rejection_areas[0] and v < rejection_areas[1])\n",
    "\n",
    "    results.append(p)\n",
    "np.random.seed(None)\n",
    "ecl = 1/M * sum(results)\n",
    "print(f\"Empirical confidence level: {ecl:.3f}\")\n",
    "print(f\"Confidence level: {ALPHA:.3f}\")"
   ]
  },
  {
   "cell_type": "markdown",
   "metadata": {},
   "source": [
    "I expected the difference to be large, because of low sample size, which can't fully describe Normal Distribution without enough samples. <br>Although we have \"The rule of thumb\", so I believe it should be at least near the correct answer"
   ]
  },
  {
   "cell_type": "markdown",
   "metadata": {},
   "source": [
    "#### Task 4"
   ]
  },
  {
   "cell_type": "markdown",
   "metadata": {},
   "source": [
    "H<sub>0</sub> hypothesis: t<sub>2..50</sub> = N <br>\n",
    "H<sub>1</sub> hypothesis: t<sub>2..50</sub> ≠ N <br>\n",
    "Though H<sub>0</sub> is declared as normality, we expect it to be rejected, and the H<sub>1</sub> hypothesis to be accepted."
   ]
  },
  {
   "cell_type": "code",
   "execution_count": 48,
   "metadata": {},
   "outputs": [
    {
     "name": "stderr",
     "output_type": "stream",
     "text": [
      "100%|██████████| 49/49 [01:21<00:00,  1.66s/it]\n"
     ]
    },
    {
     "data": {
      "image/png": "[encoded data removed]",
      "text/plain": [
       "<Figure size 640x480 with 1 Axes>"
      ]
     },
     "metadata": {},
     "output_type": "display_data"
    }
   ],
   "source": [
    "M = 1000\n",
    "n = 100\n",
    "dfs = range(2, 51)\n",
    "alpha = 0.05\n",
    "\n",
    "rejections = {df: 0 for df in dfs}\n",
    "\n",
    "for df in tqdm(dfs):\n",
    "    for i in range(M):\n",
    "        sample = np.random.standard_t(df, size=n)\n",
    "\n",
    "        _, p_value = stats.kstest(sample, 'norm')\n",
    "\n",
    "        if p_value < alpha:\n",
    "            rejections[df] += 1\n",
    "\n",
    "power = [rejections[df] / M for df in dfs]\n",
    "\n",
    "plt.plot(dfs, power, marker='o')\n",
    "plt.title('Power of the KS Test for Different Degrees of Freedom')\n",
    "plt.xlabel('Degrees of Freedom')\n",
    "plt.ylabel('Power')\n",
    "plt.grid(True)\n",
    "plt.show()\n"
   ]
  },
  {
   "cell_type": "markdown",
   "metadata": {},
   "source": [
    "The provided plot shows the power of the KS test for different degrees of freedom. Initially, the test has high power for low degrees of freedom, indicating good performance in detecting non-normality. As the degrees of freedom increase, the power drops sharply and then levels off, showing that the test is less effective when the t-distribution resembles a normal distribution (roughly at df > 10). <br>\n",
    "The plot suggests that the KS test may not be the best tool for detecting small deviations from normality in samples that come from distributions similar to the normal distribution. This is relevant in practical applications where the sample distribution may only slightly deviate from normality."
   ]
  }
 ],
 "metadata": {
  "kernelspec": {
   "display_name": "Python 3",
   "language": "python",
   "name": "python3"
  },
  "language_info": {
   "codemirror_mode": {
    "name": "ipython",
    "version": 3
   },
   "file_extension": ".py",
   "mimetype": "text/x-python",
   "name": "python",
   "nbconvert_exporter": "python",
   "pygments_lexer": "ipython3",
   "version": "3.10.13"
  }
 },
 "nbformat": 4,
 "nbformat_minor": 2
}
